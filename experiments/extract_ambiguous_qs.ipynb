{
 "cells": [
  {
   "cell_type": "code",
   "execution_count": 34,
   "metadata": {},
   "outputs": [],
   "source": [
    "import pandas as pd\n",
    "from pathlib import Path\n",
    "path_annotations = Path(\"../\") / \"annotations\"\n",
    "path_fin = path_annotations / \"financial_annotations.csv\"\n",
    "path_samp = path_annotations / \"sampled_annotations.csv\"\n",
    "df_annotations_fin = pd.read_csv(path_fin)\n",
    "df_annotations_samp = pd.read_csv(path_samp)"
   ]
  },
  {
   "cell_type": "code",
   "execution_count": 35,
   "metadata": {},
   "outputs": [
    {
     "name": "stderr",
     "output_type": "stream",
     "text": [
      "/tmp/ipykernel_4222/2036296585.py:1: UserWarning: This pattern is interpreted as a regular expression, and has match groups. To actually get the groups, use str.extract.\n",
      "  df_ambi_qs_fin = df_annotations_fin[df_annotations_fin[\"Error Category\"].str.contains(r'(\\b2\\b)|(\\b4\\b)', na=False)]\n"
     ]
    }
   ],
   "source": [
    "df_ambi_qs_fin = df_annotations_fin[df_annotations_fin[\"Error Category\"].str.contains(r'(\\b2\\b)|(\\b4\\b)', na=False)]\n",
    "df_ambi_qs_fin = df_ambi_qs_fin.drop([\"Original gold SQL\", \"Suggested fixed gold_sql\"], axis=1)"
   ]
  },
  {
   "cell_type": "code",
   "execution_count": 37,
   "metadata": {},
   "outputs": [],
   "source": [
    "ambiguous_question_dir = Path(\"../\") / 'annotations' / 'ambigous_questions'\n",
    "ambiguous_question_dir.mkdir(parents=True, exist_ok=True)\n",
    "write_path = ambiguous_question_dir /  'financial_ambiguous_questions.csv'\n",
    "df_ambi_qs_fin.to_csv(write_path)\n",
    "df_ambi_qs_fin_orig = df_ambi_qs_fin[\"Original question\"]\n",
    "df_ambi_qs_fin_mod = df_ambi_qs_fin[\"Suggested fixed question\"]\n",
    "df_ambi_qs_fin_orig.to_csv(ambiguous_question_dir / \"financial_ambiguous_questions_original.csv\", index=False)\n",
    "df_ambi_qs_fin_mod.to_csv(ambiguous_question_dir / \"financial_ambiguous_questions_fixed.csv\", index=False)"
   ]
  },
  {
   "cell_type": "code",
   "execution_count": 39,
   "metadata": {},
   "outputs": [
    {
     "name": "stderr",
     "output_type": "stream",
     "text": [
      "/tmp/ipykernel_4222/1849150734.py:1: UserWarning: This pattern is interpreted as a regular expression, and has match groups. To actually get the groups, use str.extract.\n",
      "  df_ambi_qs_samp = df_annotations_samp[df_annotations_samp[\"Annotation\"].str.contains(r'(\\b2\\b)|(\\b4\\b)', na=False)]\n"
     ]
    }
   ],
   "source": [
    "df_ambi_qs_samp = df_annotations_samp[df_annotations_samp[\"Annotation\"].str.contains(r'(\\b2\\b)|(\\b4\\b)', na=False)]\n",
    "df_ambi_qs_samp = df_ambi_qs_samp.drop([\"﻿question_id\",\"db_id\", \"SQL\",\"evidence\", \"difficulty\"], axis=1)"
   ]
  },
  {
   "cell_type": "code",
   "execution_count": 40,
   "metadata": {},
   "outputs": [],
   "source": [
    "df_ambi_qs_samp.to_csv(ambiguous_question_dir / \"sample_ambiguous_questions.csv\", index=False)"
   ]
  },
  {
   "cell_type": "code",
   "execution_count": null,
   "metadata": {},
   "outputs": [],
   "source": []
  }
 ],
 "metadata": {
  "kernelspec": {
   "display_name": "bird-noise",
   "language": "python",
   "name": "python3"
  },
  "language_info": {
   "codemirror_mode": {
    "name": "ipython",
    "version": 3
   },
   "file_extension": ".py",
   "mimetype": "text/x-python",
   "name": "python",
   "nbconvert_exporter": "python",
   "pygments_lexer": "ipython3",
   "version": "3.12.8"
  }
 },
 "nbformat": 4,
 "nbformat_minor": 2
}
